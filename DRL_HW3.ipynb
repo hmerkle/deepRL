{
  "nbformat": 4,
  "nbformat_minor": 0,
  "metadata": {
    "colab": {
      "provenance": []
    },
    "kernelspec": {
      "name": "python3",
      "display_name": "Python 3"
    },
    "language_info": {
      "name": "python"
    }
  },
  "cells": [
    {
      "cell_type": "markdown",
      "source": [
        "# Group 5\n",
        "\n",
        "*   Hanna Merkle\n",
        "*   Jesse König\n",
        "*   Philipp Bauer"
      ],
      "metadata": {
        "id": "TnplVkXUFXNG"
      }
    },
    {
      "cell_type": "markdown",
      "source": [
        "## Task 1: Homework Review\n",
        "Groups 1 and 42\n",
        "\n",
        "Tutor: Leon Lemke"
      ],
      "metadata": {
        "id": "J3OHly8THHHR"
      }
    },
    {
      "cell_type": "markdown",
      "source": [
        "## Task 2: Learning a policy via 1-step SARSA\n",
        "\n",
        "For the following work again work with your own gridworld implementation!\n",
        "You may revise/change pieces of it, or ask other groups for access to their\n",
        "implementation of course.\n",
        "\n",
        "*   Implement tabular 1-step SARSA control\n",
        "*   Measure average Return-per-Episode and plot it against (1) episodes sampled, and (2) wallclock-time\n",
        "\n",
        "\n",
        "For an outstanding submission:\n",
        "\n",
        "*   Visualize the State-Action Values in your gridworld during training at\n",
        "regular intervals, and provide a visualization of them (e.g. a series of\n",
        "images, best combine them into a short video clip)"
      ],
      "metadata": {
        "id": "qjxh3U4uFx4P"
      }
    },
    {
      "cell_type": "code",
      "source": [
        "import numpy as np\n",
        "import matplotlib.pyplot as plt\n",
        "\n",
        "ACTIONS = [\"LEFT\", \"RIGHT\", \"UP\", \"DOWN\"]\n",
        "\n",
        "class GridWorld:\n",
        "  def __init__(self, shape, start, goal, goal_reward = 2, step_punishment = -0.01):\n",
        "    # initialize empty grid\n",
        "    self.shape = shape\n",
        "    self.grid = np.ndarray(shape, dtype=GridTile)\n",
        "    for i in range(shape[0]):\n",
        "      for j in range(shape[1]):\n",
        "        self.grid[i,j]=GridTile((i,j), reward = step_punishment)\n",
        "\n",
        "    # list of all states as coordinates (x,y)\n",
        "    self.states = [state for state in np.ndindex(*self.shape)]\n",
        "    \n",
        "    # put agent on start tile\n",
        "    self.start = start\n",
        "    self.grid[start].has_agent = True\n",
        "    self.agent_pos = start\n",
        "    \n",
        "    # set goal tile\n",
        "    self.grid[goal].is_goal = True\n",
        "    self.grid[goal].reward = goal_reward\n",
        "    self.goal = goal\n",
        "    self.goal_reward = goal_reward\n",
        "\n",
        "    # list of tuples (state, action, reward) updated in state_transition function\n",
        "    self.trajectory = []\n",
        "\n",
        "  # setter method\n",
        "  def move_agent(self, target_tile):\n",
        "    self.grid[self.agent_pos].has_agent = False\n",
        "    self.agent_pos = target_tile.position\n",
        "    target_tile.has_agent = True\n",
        "\n",
        "  def get_target(self, position, action):\n",
        "    # get current coordinates\n",
        "    agent_x, agent_y = position\n",
        "\n",
        "    # target = which tile would the agent like to go to?\n",
        "    if action == \"LEFT\":\n",
        "      target = (agent_x, agent_y-1)\n",
        "    elif action == \"RIGHT\":\n",
        "      target = (agent_x, agent_y+1)\n",
        "    elif action == \"UP\":\n",
        "      target = (agent_x-1, agent_y)\n",
        "    elif action == \"DOWN\":\n",
        "      target = (agent_x+1, agent_y)\n",
        "    elif action == None:\n",
        "      target = (agent_x, agent_y)\n",
        "\n",
        "    return target\n",
        "\n",
        "  # changes state according to action of agent\n",
        "  def state_transition(self, action):\n",
        "    old_pos = self.agent_pos\n",
        "    target = self.get_target(old_pos, action)\n",
        "    \n",
        "    # if target is out of bounds stay put\n",
        "    if target[0] < 0 or target[1] < 0 or target[0] > self.shape[0]-1 or target[1] > self.shape[1]-1:\n",
        "      target_tile = self.grid[self.agent_pos]\n",
        "    else:\n",
        "      target_tile = self.grid[target]\n",
        "\n",
        "    # reward (from effect tile)\n",
        "    r = 0\n",
        "\n",
        "    if action == None:\n",
        "      target_tile = self.grid[self.agent_pos]\n",
        "      self.move_agent(target_tile)\n",
        "\n",
        "    # check tile types\n",
        "    elif not target_tile.passable:\n",
        "      # stay where you are\n",
        "      target_tile = self.grid[self.agent_pos]\n",
        "      self.move_agent(target_tile)\n",
        "\n",
        "    elif target_tile.effect == 'ice':\n",
        "      # move to ice tile\n",
        "      self.move_agent(target_tile)\n",
        "      # slide one tile further if that is a valid move\n",
        "      if self.valid_move(self.agent_pos, action):\n",
        "        r = self.state_transition(action)\n",
        "      \n",
        "    elif target_tile.effect == 'wind':\n",
        "      # move to wind tile\n",
        "      self.move_agent(target_tile)\n",
        "      # blown off in random direction\n",
        "      r = self.state_transition(np.random.choice(ACTIONS))\n",
        "\n",
        "    # standard move, i.e. tile without special effect\n",
        "    else:\n",
        "      self.move_agent(target_tile)\n",
        "    \n",
        "    # reward from tile + potential effect\n",
        "    reward = target_tile.reward + r\n",
        "\n",
        "    # update trajectory\n",
        "    state = old_pos\n",
        "\n",
        "    self.trajectory.append((state, action, reward))\n",
        "\n",
        "    # \n",
        "    return reward\n",
        "\n",
        "  # check whether given move can be made\n",
        "  def valid_move(self, position, action):\n",
        "    # can't move any where from wall (doesn't happen anyways, just used for visualizing policy)\n",
        "    if not self.grid[position].passable:\n",
        "      return False\n",
        "\n",
        "    # can't move from goal\n",
        "    if position == self.goal:\n",
        "      return False\n",
        "\n",
        "    target = self.get_target(position, action)\n",
        "\n",
        "    if target[0] < 0 or target[1] < 0 or target[0] > self.shape[0]-1 or target[1] > self.shape[1]-1:\n",
        "      return False\n",
        "    else:\n",
        "      target_tile = self.grid[target]\n",
        "\n",
        "    # can't move into wall\n",
        "    if not target_tile.passable:\n",
        "      return False\n",
        "\n",
        "    # else/finally -> no checks failed, move is valid\n",
        "    return True\n",
        "\n",
        "  # return list of all possible moves for a given position\n",
        "  def valid_moves(self, position):\n",
        "    moves = [action for action in ACTIONS if self.valid_move(position, action)]\n",
        "    if len(moves) > 0:\n",
        "      return moves\n",
        "    else:\n",
        "      return [None]\n",
        "\n",
        "  # optional task\n",
        "  def __str__(self):\n",
        "    return '\\n'.join([''.join([str(item) for item in row]) for row in self.grid]) + '\\n'\n",
        "\n",
        "class GridTile:\n",
        "  def __init__(self,position=(0,0),reward=0,passable=True,effect=None,has_agent=False,is_goal=False):\n",
        "    self.position = position\n",
        "    self.reward = reward\n",
        "    self.passable = passable\n",
        "    self.effect = effect\n",
        "    self.has_agent = has_agent\n",
        "    self.is_goal = is_goal\n",
        "\n",
        "  # optional task\n",
        "  def __str__(self):\n",
        "    if self.passable==False: return '⛔'\n",
        "    if self.has_agent==True: return '🤖'\n",
        "    if self.is_goal==True: return '🟩'\n",
        "    e = self.effect\n",
        "    if e == None: return '⬜'\n",
        "    if e == 'ice': return '🧊'\n",
        "    if e == 'wind': return '🌪️'\n",
        "\n",
        "class GridAgent:\n",
        "  def __init__(self, gw):\n",
        "    self.reward = 0\n",
        "\n",
        "    # choose a random action valid action\n",
        "    def rand_action(state):\n",
        "      possible_actions = gw.valid_moves(state)\n",
        "      #print(state, possible_actions)\n",
        "      return np.random.choice(possible_actions)\n",
        "\n",
        "    # initial policy is random\n",
        "    self.policy = {state: (rand_action(state) if (gw.grid[state].passable and not state==gw.goal) else None) for state in gw.states}"
      ],
      "metadata": {
        "id": "fkVLHQdPGHF7"
      },
      "execution_count": null,
      "outputs": []
    },
    {
      "cell_type": "code",
      "source": [
        "# set up example GridWorld\n",
        "def gw_constructor(exploring_starts = True, step_punishment = -0.01):\n",
        "  # choose random starting state (exclude walls, goal)\n",
        "  if exploring_starts:\n",
        "    exclude = {(2,2),(1,2), (4,4)}\n",
        "    all_states = {(i,j) for i in range(5) for j in range(5)}\n",
        "    options = list(all_states - exclude)\n",
        "    start = options[np.random.randint(len(options))]\n",
        "  else:\n",
        "    start = (0,0)\n",
        "\n",
        "  gw = GridWorld((5,5), start, (4,4), step_punishment = step_punishment)\n",
        "\n",
        "  # set effect/wall tiles\n",
        "  gw.grid[3,1].effect = 'wind'\n",
        "  gw.grid[3,1].reward = -0.5\n",
        "\n",
        "  gw.grid[1,4].effect = 'ice'\n",
        "  \n",
        "  gw.grid[2,2].passable = False\n",
        "  gw.grid[1,2].passable = False\n",
        "\n",
        "  return gw\n",
        "\n",
        "# string representation of a policy\n",
        "def policy_repr(policy, goal):\n",
        "  policy_rep = ''\n",
        "  row = 0\n",
        "  for state, action in policy.items():\n",
        "    if state[0] > row:\n",
        "      row += 1\n",
        "      policy_rep += \"\\n\"\n",
        "    if action == \"LEFT\":\n",
        "        policy_rep += \"⬅️\"\n",
        "    elif action == \"RIGHT\":\n",
        "        policy_rep += \"➡️\"\n",
        "    elif action == \"UP\":\n",
        "        policy_rep += \"⬆️\"\n",
        "    elif action == \"DOWN\":\n",
        "        policy_rep += \"⬇️\"\n",
        "    elif state == goal:\n",
        "        policy_rep += \"🟩\"\n",
        "    else:\n",
        "        policy_rep += \"⛔\"\n",
        "  return policy_rep"
      ],
      "metadata": {
        "id": "3Roqw3HhfdXC"
      },
      "execution_count": null,
      "outputs": []
    },
    {
      "cell_type": "code",
      "source": [
        "def greedy_q(q_values,s):\n",
        "  # get q value for each action in given state s\n",
        "  state_actions_q = {action : q_values[state,action] for state, action in q_values.keys() if state==s}\n",
        "  # sort q values, [-1] to get last item (highest value), [0] to get action from that item (a,q)\n",
        "  return sorted(state_actions_q.items(), key=lambda item: item[1])[-1][0]"
      ],
      "metadata": {
        "id": "HwerZ8wSEHNN"
      },
      "execution_count": null,
      "outputs": []
    },
    {
      "cell_type": "code",
      "source": [
        "from time import perf_counter"
      ],
      "metadata": {
        "id": "wDLnT0fSqavi"
      },
      "execution_count": null,
      "outputs": []
    },
    {
      "cell_type": "code",
      "source": [
        "def sarsa(gw, agent, n_episodes, alpha, gamma, exploring_starts = False, track_q=((0,0), \"RIGHT\")):\n",
        "  start = perf_counter()\n",
        "  episodic_returns = []\n",
        "  timed_returns = {}\n",
        "  q_values = {(state, action): 0 for state in gw.states for action in gw.valid_moves(state)}\n",
        "\n",
        "  q_changes = {}\n",
        "\n",
        "  for episode in range(n_episodes):\n",
        "\n",
        "    q_changes.update({episode: q_values[track_q]})\n",
        "\n",
        "    s = gw.agent_pos\n",
        "    a = greedy_q(q_values, s)\n",
        "\n",
        "    while not gw.grid[gw.agent_pos].is_goal:\n",
        "      r = gw.state_transition(a)\n",
        "      agent.reward += r\n",
        "      s2 = gw.agent_pos\n",
        "      a2 = greedy_q(q_values, s2)\n",
        "\n",
        "      q_values[(s,a)] = q_values[(s,a)] + alpha*(r + gamma*q_values[(s2,a2)]-q_values[(s,a)])\n",
        "      \n",
        "      agent.policy[s] = greedy_q(q_values,s)\n",
        "      \n",
        "      s = s2\n",
        "      a = a2\n",
        "\n",
        "    episodic_returns.append(agent.reward)\n",
        "    timed_returns.update({perf_counter()-start: agent.reward})\n",
        "\n",
        "    gw = gw_constructor(exploring_starts)\n",
        "    agent.reward = 0\n",
        "\n",
        "  return q_values, agent.policy, episodic_returns, timed_returns, q_changes"
      ],
      "metadata": {
        "id": "mm2T_Zotfud8"
      },
      "execution_count": null,
      "outputs": []
    },
    {
      "cell_type": "code",
      "source": [
        "gw = gw_constructor(exploring_starts=False)\n",
        "agent = GridAgent(gw)\n",
        "print(\"GridWorld Layout\")\n",
        "print(gw)\n",
        "\n",
        "q_values, policy, e_returns, t_returns, _ = sarsa(gw,agent,50,0.1,0.9, False)\n",
        "\n",
        "print(\"Final policy\")\n",
        "print(policy_repr(policy, gw.goal), \"\\n\")\n",
        "\n",
        "fig, (ax1, ax2) = plt.subplots(1,2)\n",
        "ax1.plot(e_returns)\n",
        "ax1.set(xlabel = 'Episode', ylabel = 'Return')\n",
        "ax2.plot(t_returns.keys(), t_returns.values())\n",
        "ax2.set(xlabel = 'Time')\n",
        "fig.show()"
      ],
      "metadata": {
        "colab": {
          "base_uri": "https://localhost:8080/",
          "height": 696
        },
        "id": "GjnFkxjkE-kt",
        "outputId": "3aa8facd-9931-44c4-ee62-55d25aad1470"
      },
      "execution_count": null,
      "outputs": [
        {
          "output_type": "stream",
          "name": "stdout",
          "text": [
            "GridWorld Layout\n",
            "🤖⬜⬜⬜⬜\n",
            "⬜⬜⛔⬜🧊\n",
            "⬜⬜⛔⬜⬜\n",
            "⬜🌪️⬜⬜⬜\n",
            "⬜⬜⬜⬜🟩\n",
            "\n",
            "Final policy\n",
            "➡️➡️➡️➡️⬇️\n",
            "⬇️⬆️⛔➡️⬇️\n",
            "⬇️⬆️⛔⬇️⬇️\n",
            "⬇️⬇️⬅️➡️⬇️\n",
            "➡️➡️➡️➡️🟩 \n",
            "\n"
          ]
        },
        {
          "output_type": "display_data",
          "data": {
            "text/plain": [
              "<Figure size 640x480 with 2 Axes>"
            ],
            "image/png": "[encoded data removed]"
          },
          "metadata": {}
        }
      ]
    },
    {
      "cell_type": "markdown",
      "source": [
        "## Task 3: Visiualizing Variance-Bias Trade-Off\n",
        "Pick some average return, which constitures roughly the half-way-point between\n",
        "your algorithms average starting return and fully trained return. For both MCcontrol (from last weeks homework) and 1-step SARSA, do the following: (pick\n",
        "the same state for both!)\n",
        "\n",
        "*  For both SARSA and MC-Control:\n",
        "    *  Sample 1000 or more episodes starting at some specific (e.g. the starting) state, with some specific action\n",
        "    *  Update only this specific starting Q-value!\n",
        "    *  Track how the Q-value changes over the episodes (i.e. provide a list or ndarray with an estimation over each episode)\n",
        "\n",
        "*  Repeat the above 100 (or more) times for both SARSA and MC-Control\n",
        "*  For both SARSA and MC-Control, create a lineplot including mean and std \n",
        "   estimation (over the 100+ repeats) vs. episodes sampled\n",
        "*  Interpret the result"
      ],
      "metadata": {
        "id": "-Tf_EzJkGH0N"
      }
    },
    {
      "cell_type": "code",
      "source": [
        "# code copied from HW2N\n",
        "\n",
        "# max steps avoid infinite run/running in circles\n",
        "def run(gw, agent, max_steps=500):\n",
        "  steps = 0\n",
        "\n",
        "  while not gw.grid[gw.agent_pos].is_goal:\n",
        "    # choose action according to policy\n",
        "    action = agent.policy[gw.agent_pos]\n",
        "\n",
        "    # perform action and get reward\n",
        "    r = gw.state_transition(action)    \n",
        "    agent.reward += r\n",
        "\n",
        "    steps += 1\n",
        "    # quit early\n",
        "    if steps > max_steps:\n",
        "      return agent.reward\n",
        "\n",
        "  # if we start in goal state no action is required\n",
        "  if gw.start == gw.goal:\n",
        "    gw.trajectory.append((gw.start, None, gw.goal_reward))\n",
        "    return gw.goal_reward\n",
        "  \n",
        "  # return -> cumulated agent reward\n",
        "  return agent.reward\n",
        "\n",
        "def policy_iteration(max_episodes = 1000, gamma=0.9, track_q = ((0,0),\"RIGHT\")):\n",
        "  # initialization\n",
        "  start = perf_counter()\n",
        "  gw = gw_constructor()\n",
        "  # has random policy at start\n",
        "  agent = GridAgent(gw)\n",
        "\n",
        "  # q=0 for all states and action\n",
        "  q_values = {(state, action): 0 for state in gw.states for action in gw.valid_moves(state)}\n",
        "  # empty returns\n",
        "  returns = {(state, action): [] for state in gw.states for action in gw.valid_moves(state)}\n",
        "\n",
        "  # for plotting\n",
        "  episodic_returns = []\n",
        "  timed_returns = {}\n",
        "\n",
        "  #### NEW PART\n",
        "  q_changes = {}\n",
        "  ###\n",
        "\n",
        "\n",
        "  n_episodes = 0\n",
        "  while True:\n",
        "    ### NEW PART: Track changes in Q((0,0), RIGHT)\n",
        "    q_changes.update({n_episodes: q_values[track_q]})\n",
        "    ###\n",
        "\n",
        "    n_episodes += 1\n",
        "\n",
        "    # s_0 determined by constructor, just choose a_0\n",
        "    if gw.start != gw.goal:\n",
        "      a_0 = np.random.choice(gw.valid_moves(gw.agent_pos))\n",
        "    else:\n",
        "      a_0 = None\n",
        "\n",
        "    # perfrom first action a_0\n",
        "    gw.state_transition(a_0)\n",
        "    \n",
        "    # run through normal policy after first action (start state for policy is reset)\n",
        "    gw.start = gw.agent_pos\n",
        "    rt = run(gw, agent, 100)\n",
        "    \n",
        "    # plotting\n",
        "    episodic_returns.append(rt)\n",
        "    timed_returns.update({perf_counter()-start: rt})\n",
        "\n",
        "    G = 0\n",
        "    for s, a, r in gw.trajectory[::-1]:\n",
        "      G = gamma*G + r\n",
        "      \n",
        "      # remove current (s,a,r) from trajectory\n",
        "      gw.trajectory.pop()\n",
        "\n",
        "      # check if (s,a) has been repeated\n",
        "      if not (s,a) in [(s_,a_) for s_,a_,r_ in gw.trajectory]:\n",
        "        returns[(s,a)].append(G)\n",
        "        q_values[(s,a)] = np.average(returns[(s,a)])\n",
        "\n",
        "        # get q value for each action in given state s\n",
        "        state_actions_q = {action : q_values[(state,action)] for state, action in q_values.keys() if state==s}\n",
        "        # sort q values, [-1] to get last item (highest value), [0] to get action from that item (a,q)\n",
        "        argmax_a = sorted(state_actions_q.items(), key=lambda item: item[1])[-1][0]\n",
        "        # update policy for state s\n",
        "        agent.policy[s] = argmax_a\n",
        "    \n",
        "    # reset for new episode\n",
        "    gw = gw_constructor()\n",
        "    agent.reward = 0\n",
        "\n",
        "    # return final policy and values for plotting\n",
        "    if n_episodes == max_episodes:\n",
        "      return q_values, agent.policy, episodic_returns, timed_returns, q_changes\n",
        "\n",
        "_, policy, e_returns, t_returns, _ = policy_iteration(1000)\n",
        "\n",
        "gw = gw_constructor()\n",
        "print(\"GridWorld Layout (Start position randomized)\")\n",
        "print(gw)\n",
        "print(\"Final policy\")\n",
        "print(policy_repr(policy, gw.goal), \"\\n\")\n",
        "\n",
        "fig, (ax1, ax2) = plt.subplots(1,2)\n",
        "ax1.plot(e_returns)\n",
        "ax1.set(xlabel = 'Episode', ylabel = 'Return')\n",
        "ax2.plot(t_returns.keys(), t_returns.values())\n",
        "ax2.set(xlabel = 'Time')\n",
        "fig.show()"
      ],
      "metadata": {
        "id": "C1BpvOWgGsvJ",
        "colab": {
          "base_uri": "https://localhost:8080/",
          "height": 692
        },
        "outputId": "eb21aef4-5b96-4f3f-b47b-c3fea88c4387"
      },
      "execution_count": null,
      "outputs": [
        {
          "output_type": "stream",
          "name": "stdout",
          "text": [
            "GridWorld Layout (Start position randomized)\n",
            "⬜⬜⬜⬜⬜\n",
            "⬜⬜⛔⬜🧊\n",
            "⬜⬜⛔⬜⬜\n",
            "🤖🌪️⬜⬜⬜\n",
            "⬜⬜⬜⬜🟩\n",
            "\n",
            "Final policy\n",
            "➡️➡️➡️➡️⬇️\n",
            "⬇️⬆️⛔➡️⬇️\n",
            "⬇️⬅️⛔➡️⬇️\n",
            "⬇️➡️➡️➡️⬇️\n",
            "➡️➡️➡️➡️🟩 \n",
            "\n"
          ]
        },
        {
          "output_type": "display_data",
          "data": {
            "text/plain": [
              "<Figure size 640x480 with 2 Axes>"
            ],
            "image/png": "[encoded data removed]"
          },
          "metadata": {}
        }
      ]
    },
    {
      "cell_type": "code",
      "source": [
        "iter_q_ch = []\n",
        "sarsa_q_ch = []\n",
        "track_q = (0,0), \"RIGHT\"\n",
        "\n",
        "for i in range(100):\n",
        "  iter_q_values, iter_policy, iter_e_returns, iter_t_returns, iter_q_changes = policy_iteration(1000, track_q=track_q)\n",
        "  iter_q_ch.append(iter_q_changes)\n",
        "  sarsa_q_values, sarsa_policy, sarsa_e_returns, sarsa_t_returns, sarsa_q_changes = sarsa(gw,agent,1000,0.1,0.9, False, track_q=track_q)\n",
        "  sarsa_q_ch.append(sarsa_q_changes)"
      ],
      "metadata": {
        "id": "v3vQ74myexhX"
      },
      "execution_count": null,
      "outputs": []
    },
    {
      "cell_type": "code",
      "source": [
        "fig, ax = plt.subplots()\n",
        "iter_mean = [np.mean([item[i] for item in iter_q_ch]) for i in range(1000)]\n",
        "iter_std = [np.std([item[i] for item in iter_q_ch]) for i in range(1000)]\n",
        "sarsa_mean = [np.mean([item[i] for item in sarsa_q_ch]) for i in range(1000)]\n",
        "sarsa_std = [np.std([item[i] for item in sarsa_q_ch]) for i in range(1000)]\n",
        "ax.set(ylabel=f'Q{track_q}', xlabel=\"Episodes sampled\")\n",
        "ax.plot(iter_mean, label='MC-Control')\n",
        "ax.fill_between(np.arange(1000),np.array(iter_mean)-np.array(iter_std), np.array(iter_mean)+np.array(iter_std), alpha=0.2)\n",
        "ax.plot(sarsa_mean, label=\"SARSA\")\n",
        "ax.fill_between(np.arange(1000),np.array(sarsa_mean)-np.array(sarsa_std), np.array(sarsa_mean)+np.array(sarsa_std), alpha=0.9)\n",
        "ax.legend(loc='lower right')"
      ],
      "metadata": {
        "colab": {
          "base_uri": "https://localhost:8080/",
          "height": 466
        },
        "id": "e-QDUL6p7VzX",
        "outputId": "12f1e6fe-08b9-4ee0-fb6f-884a926b7616"
      },
      "execution_count": null,
      "outputs": [
        {
          "output_type": "execute_result",
          "data": {
            "text/plain": [
              "<matplotlib.legend.Legend at 0x7ff1f0551030>"
            ]
          },
          "metadata": {},
          "execution_count": 9
        },
        {
          "output_type": "display_data",
          "data": {
            "text/plain": [
              "<Figure size 640x480 with 1 Axes>"
            ],
            "image/png": "[encoded data removed]"
          },
          "metadata": {}
        }
      ]
    },
    {
      "cell_type": "markdown",
      "source": [
        "The plot shows that the mean Q values obtained with the 1-step SARSA algorithm are higher compared to those achieved with MC-Control. Additionally, the MC-Control algorithm has a high standard deviation in its Q-values.\n",
        "\n",
        "The difference in the plot can be attributed to the update processes from the two algorithms. In 1-step SARSA, only the current and next time steps are considered when updating the Q-values. At every time step, the Q-values are directly updated based on the observed reward and the estimated value of the next state-action pair. This immediate update leads to less variance in the Q-values, resulting in a more stable learning process and faster convergence towards optimal values.\n",
        "\n",
        "MC-Control requires a full return, which is the cumulative reward obtained from the current state-action pair until the end of the episode. So, the returns can only be calculated for each state-action pair after a complete episode has finished. This delayed update contributes to the high variance observed in the Q-values when using the MC-Control algorithm. \n",
        "\n",
        "However, due to the bootstrapping in SARSA-1 step with the estimations for 1-step ahead, the bias is also higher compared to MC-control. This bias arises because the estimated values may not perfectly match the true values. This bias may have led to the high mean Q-values."
      ],
      "metadata": {
        "id": "KaPgv6E7gL-8"
      }
    },
    {
      "cell_type": "code",
      "source": [
        "# sarsa std not really visible in plot above\n",
        "plt.fill_between(np.arange(1000),np.array(sarsa_mean)-np.array(sarsa_std), np.array(sarsa_mean)+np.array(sarsa_std), alpha=0.9)"
      ],
      "metadata": {
        "colab": {
          "base_uri": "https://localhost:8080/",
          "height": 447
        },
        "id": "UYG-YK2MZQWf",
        "outputId": "1a361dcf-3584-4c1f-b68d-2f476d7cd5b5"
      },
      "execution_count": null,
      "outputs": [
        {
          "output_type": "execute_result",
          "data": {
            "text/plain": [
              "<matplotlib.collections.PolyCollection at 0x7ff1f05f6e90>"
            ]
          },
          "metadata": {},
          "execution_count": 10
        },
        {
          "output_type": "display_data",
          "data": {
            "text/plain": [
              "<Figure size 640x480 with 1 Axes>"
            ],
            "image/png": "[encoded data removed]"
          },
          "metadata": {}
        }
      ]
    }
  ]
}