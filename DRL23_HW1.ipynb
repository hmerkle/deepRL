{
  "nbformat": 4,
  "nbformat_minor": 0,
  "metadata": {
    "colab": {
      "provenance": [],
      "include_colab_link": true
    },
    "kernelspec": {
      "name": "python3",
      "display_name": "Python 3"
    },
    "language_info": {
      "name": "python"
    },
    "gpuClass": "standard"
  },
  "cells": [
    {
      "cell_type": "markdown",
      "metadata": {
        "id": "view-in-github",
        "colab_type": "text"
      },
      "source": [
        "<a href=\"https://colab.research.google.com/github/hmerkle/deepRL/blob/main/DRL23_HW1.ipynb\" target=\"_parent\"><img src=\"https://colab.research.google.com/assets/colab-badge.svg\" alt=\"Open In Colab\"/></a>"
      ]
    },
    {
      "cell_type": "markdown",
      "source": [
        "# Task 1 Understanding MDPs\n",
        "## 1.1 Chess\n",
        "You are tasked with creating an AI for the game of chess. To solve the problem\n",
        "using Reinforcement Learning, you have to frame the game of chess as a Markov\n",
        "Decision Process (MDP).\n",
        "\n",
        "Describe both the game of chess formally as a MDP,\n",
        "also formalize the respective policy."
      ],
      "metadata": {
        "id": "vnSVPSqfuZOI"
      }
    },
    {
      "cell_type": "markdown",
      "source": [
        "-\tstates: arrangement of pieces on 8x8 field labeled as a tuples with a number from 1 to 8 and letter from A to H\n",
        "-\tactions: picking one piece and making a legal move with it in the current board arrangement -> each piece has its own set of possible actions\n",
        "-\tTransition function: probability distribution over opponent's possible moves in response to agent's action in current state \n",
        "-\treward:\n",
        "  - if next state is a checkmate and agent wins game: reward +100\n",
        "  -\tif next state is checkmate and agent looses game: reward -100\n",
        "  - positive reward if the move wins material: 1 for a pawn; 3 for a bishop or horse; 5 for a rook; 9 for a queen\n",
        "  - negative reward if the move loses material\n",
        "\n",
        "- policy:\n",
        "  - probability distribution over possible actions with likelihood of each action relative to it's expected return"
      ],
      "metadata": {
        "id": "P_GMGBfp2Mhp"
      }
    },
    {
      "cell_type": "markdown",
      "source": [
        "## 1.2 LunarLander\n",
        "Check out the LunarLander environment on OpenAI Gym: [LunarLander-v2](https://www.gymlibrary.dev/environments/box2d/lunar_lander/).\n",
        "\n",
        "Describe the environment as a MDP, include a description how the policy is\n",
        "formalized.\n"
      ],
      "metadata": {
        "id": "ovz_HQ0VutbH"
      }
    },
    {
      "cell_type": "markdown",
      "source": [
        "- state: \n",
        "  - vector $[x,y,\\vec{x},\\vec{y},\\alpha,\\vec{\\alpha}, L_1,L_2]$ with lander coordinates $x,y$, lander linear velocites $\\vec{x},\\vec{y}$, angle $\\alpha$, angular velocity $\\vec{\\alpha}$, boolean values $L_1, L_2$ representing whether a lander leg is contacting the ground\n",
        "\n",
        "- action: \n",
        "  - do nothing\n",
        "  - fire left orientation engine\n",
        "  - fire main engine\n",
        "  - fire right orientation engine\n",
        "\n",
        "- state dynamics:\n",
        "  - determined by the physics of the game (i.e. gravity and wind settings of the environment) and the action the agent took\n",
        "\n",
        "- reward: \n",
        "  - landing on landing pad (0,0): reward +100\n",
        "  - landing away from landing pad: 100-[distance to landing pad]\n",
        "  - crashing: reward -100\n",
        "  - each leg ground contact: +10\n",
        "  - firing main engine: -0.3\n",
        "  - firing side engine: -0.03\n",
        "\n",
        "- policy:\n",
        "  - Categorical probability distribution over the 4 possible actions in each state"
      ],
      "metadata": {
        "id": "_FPbKQLOvWna"
      }
    },
    {
      "cell_type": "markdown",
      "source": [
        "## 1.3 Model Based RL: Accessing Environment Dynamics\n",
        "Discuss the Policy Evaluation and Policy Iteration algorithms from the lecture.\n",
        "They explicitly make use of the environment dynamics $(p(s',r|s,a))$.\n",
        "\n",
        "*    Explain what the environment dynamics (i.e. reward function and state\n",
        "transition function) are and give at least two examples.\n",
        "\n",
        "*    Discuss: Are the environment dynamics generally known and can practically be used to solve a problem with RL?"
      ],
      "metadata": {
        "id": "20cUbgqXvXT_"
      }
    },
    {
      "cell_type": "markdown",
      "source": [
        "The state transition function $p(s'|s,a)$ gives the probability of ending up in a specific state $s'$ after performing action $a$ in state $s$.\n",
        "\n",
        "For example in a simple GridWorld the function could return a high probability for the state $s'$ where the agent is one tile to right of where it was in state $s$ after performing the action $a=RIGHT$ and a (close to) zero probability for turning up in state $s'$ with the agent 5 tiles to left.\n",
        "\n",
        "The reward function $p(r|s,a)$ quantifies how good performing action a in state s is. \n",
        "\n",
        "Example: In the GridWorld example taking the action $a=RIGHT$ when in a state where the agent is to the left of the goal state should give a high probability.\n",
        "\n",
        "The environment dynamic $p(s',r|s,a)$ is the combination of the above.\n"
      ],
      "metadata": {
        "id": "PbS4nUn8vXih"
      }
    },
    {
      "cell_type": "markdown",
      "source": [
        "2. When an agent starts a learning process in an environment, it usually doesn't have complete knowledge of the transition function or the reward function of the environment, especially in real world applications. The agent first needs to interact with the environment by taking actions, reaching different states and getting certain positive or negative rewards before it can estimate what might happen next time it takes that action in that state. Meaning, the agent first needs to update its estimates of the transition function and dynamics. The learning is therefore more by trial and error and the policy might not be optimal. If an agent acts in a game like chess for example, the rules and rewards are more clearly defined and therefore also the environment dynamics are known and the agent has an easier time to learn a good policy."
      ],
      "metadata": {
        "id": "j-rbZK025v5R"
      }
    },
    {
      "cell_type": "markdown",
      "source": [
        "# Task 2 Implementing a GridWorld\n",
        "GridWorlds are some of the most common tools for visualizing RL by creating an easily understandable and visually interpretable MDP (and especially\n",
        "agents and their policy within them). Fundamentally a Gridworld consists of\n",
        "an $m \\times n$ sized world and the agent-position within this grid. The agent can\n",
        "typically choose between four actions: $[LEFT, TOP, RIGHT, DOWN]$. Additionally, there is typically a goal - a specific tile, which the agent is supposed to\n",
        "reach. When the agent reaches this tile, a reward is given and the environment\n",
        "is reset. You are tasked with implementing such a GridWorld.\n",
        "\n",
        "## 2.1 Look up some examples\n",
        "Look up some examples of GridWorld! List at least three links or references to\n",
        "different GridWorlds you could find online."
      ],
      "metadata": {
        "id": "ehjkG5jyWGTc"
      }
    },
    {
      "cell_type": "markdown",
      "source": [
        "Sutton & Barto 2020: p.60 Example 3.5 and p.130 Example 6.5\n",
        "\n",
        "https://towardsdatascience.com/reinforcement-learning-implement-grid-world-from-scratch-c5963765ebff\n",
        "\n",
        "Reinforce.js: by Andrej Karpathy\n",
        "https://cs.stanford.edu/people/karpathy/reinforcejs/\n"
      ],
      "metadata": {
        "id": "c_ALgWBjWeU5"
      }
    },
    {
      "cell_type": "markdown",
      "source": [
        "## 2.2 Implementing the MDP\n",
        "First, make sure you understand the underlying MDP of a Gridworld.\n",
        "\n",
        "*   Implement a GridWorld Class\n",
        "*   Implement all key features defining an MDP in respectively named methods or attributes of this object\n",
        "*   Specify whether your MDP is deterministic or stochastic\n",
        "\n",
        "As you have seen in previously researched examples, typically GridWorlds add\n",
        "some additional complexities for the agent. Some typical examples include Walls\n",
        "(non-passable tiles), traps (tiles that penalize passing them with some negative\n",
        "reward), or difficult terrain (typically icy or windy tiles, where agents are passed\n",
        "onto certain neighboring tiles instead of arriving where they planned to). For\n",
        "this task you may use the examples above or come up with your own ideas.\n",
        "\n",
        "*   Implement at least two complexities for your agent to overcome. You\n",
        "may use the examples above or come up with your own ideas (or take\n",
        "inspiration from GridWorlds you found online)\n"
      ],
      "metadata": {
        "id": "Ds2hNJ_cWf0Y"
      }
    },
    {
      "cell_type": "code",
      "source": [
        "import numpy as np"
      ],
      "metadata": {
        "id": "hnCAIiXGvZU6"
      },
      "execution_count": null,
      "outputs": []
    },
    {
      "cell_type": "code",
      "source": [
        "class GridWorld:\n",
        "  def __init__(self, shape, start, goal, goal_reward = 2, step_punishment = -0.01):\n",
        "    # initialize empty grid\n",
        "    self.shape = shape\n",
        "    self.grid = np.ndarray(shape, dtype=GridTile)\n",
        "    for i in range(shape[0]):\n",
        "      for j in range(shape[1]):\n",
        "        self.grid[i,j]=GridTile((i,j), reward = step_punishment)\n",
        "    \n",
        "    # put agent on start tile\n",
        "    self.grid[start].is_start = True\n",
        "    self.grid[start].has_agent = True\n",
        "    self.grid[start].visited = True\n",
        "    self.agent_pos = start\n",
        "    \n",
        "    # set goal tile\n",
        "    self.grid[goal].is_goal = True\n",
        "    self.grid[goal].reward = goal_reward\n",
        "    self.goal = goal\n",
        "    \n",
        "  # helper method used for testing\n",
        "  def change_tile(self, index, tile):\n",
        "    self.grid[index] = tile\n",
        "    if tile.is_goal: self.goal = index\n",
        "\n",
        "  # setter method\n",
        "  def move_agent(self, target_tile):\n",
        "    self.grid[self.agent_pos].has_agent = False\n",
        "    self.agent_pos = target_tile.position\n",
        "    target_tile.has_agent = True\n",
        "    target_tile.visited = True\n",
        "\n",
        "  # \n",
        "  def state_transition(self, action):\n",
        "    # get current coordinates\n",
        "    agent_x, agent_y = self.agent_pos\n",
        "\n",
        "    # target = which tile would the agent like to go to?\n",
        "    if action == \"LEFT\":\n",
        "      target = (agent_x, agent_y-1)\n",
        "    elif action == \"RIGHT\":\n",
        "      target = (agent_x, agent_y+1)\n",
        "    elif action == \"UP\":\n",
        "      target = (agent_x-1, agent_y)\n",
        "    elif action == \"DOWN\":\n",
        "      target = (agent_x+1, agent_y)\n",
        "\n",
        "    # if target is out of bounds stay put\n",
        "    if target[0] < 0 or target[1] < 0 or target[0] > self.shape[0]-1 or target[1] > self.shape[1]-1:\n",
        "      target_tile = self.grid[self.agent_pos]\n",
        "    else:\n",
        "      target_tile = self.grid[target]\n",
        "    \n",
        "    # reward\n",
        "    r = 0\n",
        "\n",
        "    # check tile types\n",
        "    if not target_tile.passable:\n",
        "      # stay where you are\n",
        "      target_tile = self.grid[self.agent_pos]\n",
        "      self.move_agent(target_tile)\n",
        "\n",
        "    elif target_tile.effect == 'ice':\n",
        "      # move to ice tile\n",
        "      self.move_agent(target_tile)\n",
        "      try:\n",
        "        # slip one tile further\n",
        "        r = self.state_transition(action)\n",
        "\n",
        "      # avoid continually sliding into wall etc. (find better fix?)\n",
        "      except RecursionError:\n",
        "        pass\n",
        "      \n",
        "    elif target_tile.effect == 'wind':\n",
        "      # move to wind tile\n",
        "      self.move_agent(target_tile)\n",
        "      # blown off in random direction\n",
        "      r = self.state_transition(np.random.choice([\"LEFT\",\"RIGHT\",\"UP\",\"DOWN\"]))\n",
        "\n",
        "    # standard move, tile without effects etc.\n",
        "    else:\n",
        "      self.move_agent(target_tile)\n",
        "\n",
        "    #target_tile.returns = r\n",
        "    \n",
        "    # \n",
        "    return target_tile.reward + r\n",
        "  \n",
        "  # wrong?\n",
        "  def get_returns(self):\n",
        "    return np.array([[tile.value for tile in row] for row in self.grid])\n",
        "\n",
        "  # optional task\n",
        "  def __str__(self):\n",
        "    return '\\n'.join([''.join([str(item) for item in row]) for row in self.grid]) + '\\n'\n",
        "\n",
        "class GridTile:\n",
        "  def __init__(self,position=(0,0),reward=0,passable=True,effect=None,has_agent=False,is_goal=False):\n",
        "    self.position = position\n",
        "    self.reward = reward\n",
        "    self.passable = passable\n",
        "    self.effect = effect\n",
        "    self.has_agent = has_agent\n",
        "    self.is_goal = is_goal\n",
        "    self.visited = False\n",
        "    self.value = 0\n",
        "\n",
        "\n",
        "  # optional task\n",
        "  def __str__(self):\n",
        "    if self.passable==False: return '⛔'\n",
        "    if self.has_agent==True: return '🤖'\n",
        "    if self.is_goal==True: return '🟩'\n",
        "    e = self.effect\n",
        "    if e == None: return '⬜'\n",
        "    if e == 'ice': return '🧊'\n",
        "    if e == 'wind': return '🌪️'"
      ],
      "metadata": {
        "id": "qq_MDj_jW0xB"
      },
      "execution_count": null,
      "outputs": []
    },
    {
      "cell_type": "markdown",
      "source": [
        "# Task 3 Implementing a policy\n",
        "## 3.1 Implementing the basic agent\n",
        "\n",
        "*   Implement a custom agent (i.e. a policy) to interact with your GridWorld\n",
        "*   The policy should be stochastic with non-zero probability for every action\n",
        "at every state\n",
        "\n",
        "You are not supposed to implement a Reinforcement Learning algorithm here!\n",
        "Implement some simple heuristic, e.g. walk in the direction of the goal-state with a probability of 0.8, otherwise act randomly, or something similarily simple."
      ],
      "metadata": {
        "id": "08HP-NczW5im"
      }
    },
    {
      "cell_type": "code",
      "source": [
        "class GridAgent:\n",
        "  def __init__(self):\n",
        "    self.reward = 0\n",
        "\n",
        "  # return action for given state\n",
        "  def policy(self, gridworld):\n",
        "    # calculate how far agent is from goal on each axis\n",
        "    # for example: agent at (2,1) and goal at (4,5) -> diff (2,4)\n",
        "    goal = gridworld.goal\n",
        "    position = gridworld.agent_pos\n",
        "    diff = (goal[0]-position[0],goal[1]-position[1])\n",
        "\n",
        "    # choose axis with higher diff, or random if equal\n",
        "    if diff[0] != diff[1]:\n",
        "      axis = np.argmax(diff)\n",
        "    else:\n",
        "      axis = np.random.choice([0,1])\n",
        "\n",
        "    # which direction to go according to this heuristic\n",
        "    if axis == 1 and diff[axis] > 0: direction = \"RIGHT\"\n",
        "    elif axis == 1 and diff[axis] < 0: direction = \"LEFT\"\n",
        "    elif axis == 0 and diff[axis] < 0: direction = \"UP\"\n",
        "    elif axis == 0 and diff[axis] > 0: direction = \"DOWN\"\n",
        "\n",
        "    # 70% chance to take the heuristic direction and 10% for every other direction\n",
        "    actions = [\"LEFT\", \"RIGHT\", \"UP\", \"DOWN\"]\n",
        "    actions.remove(direction)\n",
        "    action = np.random.choice([direction, *actions], p=[0.7,0.1,0.1,0.1])\n",
        "    \n",
        "    return action"
      ],
      "metadata": {
        "id": "z_-yUvBwla9e"
      },
      "execution_count": null,
      "outputs": []
    },
    {
      "cell_type": "code",
      "source": [
        "def run(gridworld, agent):\n",
        "  while not gridworld.grid[gridworld.agent_pos].is_goal:\n",
        "    action = agent.policy(gridworld)\n",
        "    #print(action)\n",
        "    r = gridworld.state_transition(action)\n",
        "    agent.reward += r\n",
        "    #print(agent.reward)\n",
        "    #print(gridworld)\n",
        "\n",
        "  # wrong?\n",
        "  for row in gridworld.grid:\n",
        "    for tile in row:\n",
        "      if tile.visited:\n",
        "        tile.value = agent.reward"
      ],
      "metadata": {
        "id": "UN5rVCd-XMdC"
      },
      "execution_count": null,
      "outputs": []
    },
    {
      "cell_type": "code",
      "source": [
        "gw = GridWorld((5,5), (0,0), (4,4))\n",
        "gw.grid[3,1].effect = 'wind'\n",
        "gw.grid[3,1].reward = -1\n",
        "gw.grid[2,2].passable = False\n",
        "gw.grid[1,2].passable = False\n",
        "agent = GridAgent()\n",
        "\n",
        "print(gw)\n",
        "\n",
        "#run(gw, agent)"
      ],
      "metadata": {
        "colab": {
          "base_uri": "https://localhost:8080/"
        },
        "id": "vlAliCHTeyG9",
        "outputId": "bb277f3f-7199-4fa1-c6b8-2f65497b055c"
      },
      "execution_count": null,
      "outputs": [
        {
          "output_type": "stream",
          "name": "stdout",
          "text": [
            "🤖⬜⬜⬜⬜\n",
            "⬜⬜⛔⬜⬜\n",
            "⬜⬜⛔⬜⬜\n",
            "⬜🌪️⬜⬜⬜\n",
            "⬜⬜⬜⬜🟩\n",
            "\n"
          ]
        }
      ]
    },
    {
      "cell_type": "markdown",
      "source": [
        "## 3.2 Evaluate the policy\n",
        "*    Sample at least 1000 episodes of your agent interacting with your self-built\n",
        "GridWorld\n",
        "*    For all states s, which have been reached at least once in these episodes,\n",
        "calculate a MC-estimation of $V_\\pi(s)$ of this state."
      ],
      "metadata": {
        "id": "hdH7Zfx4XM6B"
      }
    },
    {
      "cell_type": "code",
      "source": [
        "def reset():\n",
        "  exclude = {(2,2),(1,2)}\n",
        "  all_states = {(i,j) for i in range(5) for j in range(5)}\n",
        "  options = list(all_states - exclude)\n",
        "\n",
        "  start = options[np.random.randint(len(options))]\n",
        "\n",
        "  gw = GridWorld((5,5), start, (4,4))\n",
        "  gw.grid[3,1].effect = 'wind'\n",
        "  gw.grid[3,1].reward = -1\n",
        "  gw.grid[1,4].effect = 'ice'\n",
        "  gw.grid[1,4].reward = 0.25\n",
        "  gw.grid[2,2].passable = False\n",
        "  gw.grid[1,2].passable = False\n",
        "  \n",
        "  agent = GridAgent()\n",
        "\n",
        "  return gw, agent\n",
        "\n",
        "def mc_estimate(gw, agent, runs):\n",
        "  returns = []\n",
        "  for k in range(runs):\n",
        "    run(gw, agent)\n",
        "    returns.append(gw.get_returns())\n",
        "    gw, agent = reset()\n",
        "  \n",
        "  return np.average(np.array(returns), axis=0)"
      ],
      "metadata": {
        "id": "tpIN-2XBXT9y"
      },
      "execution_count": null,
      "outputs": []
    },
    {
      "cell_type": "code",
      "source": [
        "gw, agent = reset()\n",
        "mc_estimate(gw, agent, 1000)"
      ],
      "metadata": {
        "colab": {
          "base_uri": "https://localhost:8080/"
        },
        "id": "s5O_dVyrUeo2",
        "outputId": "4d4f530b-e790-4e36-cabf-dacd49120bc3"
      },
      "execution_count": null,
      "outputs": [
        {
          "output_type": "execute_result",
          "data": {
            "text/plain": [
              "array([[-0.07364, -0.13973,  0.02422,  0.18797,  0.10559],\n",
              "       [-0.1898 , -0.23659,  0.     ,  0.27226,  0.18971],\n",
              "       [-0.232  , -0.24615,  0.     ,  0.37427,  0.3024 ],\n",
              "       [-0.28372, -0.165  ,  0.0166 ,  0.46541,  0.51649],\n",
              "       [-0.02478, -0.03473,  0.13958,  0.48027,  0.93897]])"
            ]
          },
          "metadata": {},
          "execution_count": 69
        }
      ]
    },
    {
      "cell_type": "markdown",
      "source": [
        "# Task 4 Visualization (Optional)\n",
        "This task is optional, and only required for outstanding homework submissions.\n",
        "\n",
        "* Implement a simple visualization (you could go for ASCII art or some\n",
        "visualization tool of your choice) for your GridWorld\n",
        "* Implement a method to include the MC-estimates of $V_\\pi(s)$ onto your visualization.\n",
        "* Include visualizations of the MC-estimates of $V_\\pi(s)$ with MC-estimates\n",
        "from 50, 200, 500, 1000 and 10000 episodes"
      ],
      "metadata": {
        "id": "cSNkb45DXVJh"
      }
    },
    {
      "cell_type": "code",
      "source": [
        "import matplotlib.pyplot as plt"
      ],
      "metadata": {
        "id": "nKDxFSIipZEE"
      },
      "execution_count": null,
      "outputs": []
    },
    {
      "cell_type": "code",
      "source": [
        "def viz_mc(gw, agent, runs):\n",
        "  mc_e = mc_estimate(gw, agent, runs)\n",
        "  fig, ax = plt.subplots()\n",
        "  im = ax.imshow(mc_e, cmap=\"coolwarm\")\n",
        "  for i in range(gw.shape[0]):\n",
        "      for j in range(gw.shape[1]):\n",
        "          text = ax.text(j, i, np.round(mc_e[i, j],4), ha=\"center\", va=\"center\", color=\"black\")\n",
        "  ax.get_xaxis().set_visible(False)\n",
        "  ax.get_yaxis().set_visible(False)\n",
        "  \n",
        "  plt.show()"
      ],
      "metadata": {
        "id": "iiMfMBzQo82n"
      },
      "execution_count": null,
      "outputs": []
    },
    {
      "cell_type": "code",
      "source": [
        "gw, agent = reset()\n",
        "print(gw)\n",
        "viz_mc(gw, agent, 1000)"
      ],
      "metadata": {
        "colab": {
          "base_uri": "https://localhost:8080/",
          "height": 510
        },
        "id": "qrHSvS5GpXii",
        "outputId": "43c4bef0-da3e-403b-a522-39ed97f4571a"
      },
      "execution_count": null,
      "outputs": [
        {
          "output_type": "stream",
          "name": "stdout",
          "text": [
            "⬜⬜⬜⬜⬜\n",
            "⬜⬜⛔⬜🧊\n",
            "⬜🤖⛔⬜⬜\n",
            "⬜🌪️⬜⬜⬜\n",
            "⬜⬜⬜⬜🟩\n",
            "\n"
          ]
        },
        {
          "output_type": "display_data",
          "data": {
            "text/plain": [
              "<Figure size 640x480 with 1 Axes>"
            ],
            "image/png": "[encoded data removed]"
          },
          "metadata": {}
        }
      ]
    }
  ]
}